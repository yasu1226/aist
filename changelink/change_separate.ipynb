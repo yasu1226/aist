{
 "cells": [
  {
   "cell_type": "code",
   "execution_count": 14,
   "id": "56a5140d",
   "metadata": {},
   "outputs": [],
   "source": [
    "import xml.etree.ElementTree as ET\n",
    "import json\n",
    "# XMLファイルのパス\n",
    "xml_file_path = \"map_new.xml\"\n",
    "\n",
    "#JSONファイルのパス\n",
    "json_file_path = \"newdict.json\"\n",
    "\n",
    "with open(json_file_path,\"r\") as json_file:\n",
    "    data = json.load(json_file)\n",
    "    \n",
    "# 新しいXMLファイルのパス\n",
    "new_xml_file_path = \"changemap/changerand2.xml\"\n",
    "\n",
    "# XMLファイルを解析してルート要素を取得\n",
    "tree = ET.parse(xml_file_path)\n",
    "root = tree.getroot()\n",
    "\n",
    "# Link要素の幅(width)値を+n(nはincrementsの値)して新しいXMLファイルに保存\n",
    "for link in root.findall(\".//Link\"):\n",
    "    width = link.get(\"width\")\n",
    "    search_id = link.get(\"id\")\n",
    "    \n",
    "    #xmlファイルのidとJSONのファイルのidで一致するものを探す\n",
    "    if search_id in data:\n",
    "        increments = data[search_id][\"increments\"]\n",
    "        new_width = str(float(width) + float(increments))\n",
    "        link.set(\"width\", new_width)\n",
    "        new_tag = ET.Element(\"tag\")\n",
    "        new_tag.text = \"increments=\" + str(float(increments))\n",
    "        link.append(new_tag)\n",
    "    else:\n",
    "        print(\"No id\")\n",
    "        \n",
    "# 新しいXMLファイルを保存\n",
    "tree.write(new_xml_file_path)"
   ]
  }
 ],
 "metadata": {
  "kernelspec": {
   "display_name": "Python 3 (ipykernel)",
   "language": "python",
   "name": "python3"
  },
  "language_info": {
   "codemirror_mode": {
    "name": "ipython",
    "version": 3
   },
   "file_extension": ".py",
   "mimetype": "text/x-python",
   "name": "python",
   "nbconvert_exporter": "python",
   "pygments_lexer": "ipython3",
   "version": "3.7.16"
  }
 },
 "nbformat": 4,
 "nbformat_minor": 5
}
